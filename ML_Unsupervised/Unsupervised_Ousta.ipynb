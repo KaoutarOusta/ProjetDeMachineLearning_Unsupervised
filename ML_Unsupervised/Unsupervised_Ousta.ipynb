{
 "cells": [
  {
   "cell_type": "markdown",
   "id": "56151cff",
   "metadata": {},
   "source": [
    "## Importer les bibliothèques"
   ]
  },
  {
   "cell_type": "code",
   "execution_count": 136,
   "id": "69336e30",
   "metadata": {},
   "outputs": [],
   "source": [
    "import pandas as pd\n",
    "import matplotlib.pyplot as plt \n",
    "import seaborn as sns\n",
    "from sklearn.decomposition import PCA\n",
    "import numpy as np\n",
    "from sklearn.preprocessing import StandardScaler\n",
    "from sklearn.cluster import KMeans, DBSCAN\n",
    "from sklearn.metrics import calinski_harabasz_score\n",
    "from sklearn.metrics import silhouette_score\n"
   ]
  },
  {
   "cell_type": "markdown",
   "id": "6bc2cfdd",
   "metadata": {},
   "source": [
    "## Charger les donnes"
   ]
  },
  {
   "cell_type": "code",
   "execution_count": 60,
   "id": "0d465763",
   "metadata": {},
   "outputs": [
    {
     "data": {
      "text/html": [
       "<div>\n",
       "<style scoped>\n",
       "    .dataframe tbody tr th:only-of-type {\n",
       "        vertical-align: middle;\n",
       "    }\n",
       "\n",
       "    .dataframe tbody tr th {\n",
       "        vertical-align: top;\n",
       "    }\n",
       "\n",
       "    .dataframe thead th {\n",
       "        text-align: right;\n",
       "    }\n",
       "</style>\n",
       "<table border=\"1\" class=\"dataframe\">\n",
       "  <thead>\n",
       "    <tr style=\"text-align: right;\">\n",
       "      <th></th>\n",
       "      <th>Unnamed: 0</th>\n",
       "      <th>work_year</th>\n",
       "      <th>experience_level</th>\n",
       "      <th>employment_type</th>\n",
       "      <th>job_title</th>\n",
       "      <th>salary</th>\n",
       "      <th>salary_currency</th>\n",
       "      <th>salary_in_usd</th>\n",
       "      <th>employee_residence</th>\n",
       "      <th>remote_ratio</th>\n",
       "      <th>company_location</th>\n",
       "      <th>company_size</th>\n",
       "    </tr>\n",
       "  </thead>\n",
       "  <tbody>\n",
       "    <tr>\n",
       "      <th>0</th>\n",
       "      <td>0</td>\n",
       "      <td>2020</td>\n",
       "      <td>MI</td>\n",
       "      <td>FT</td>\n",
       "      <td>Data Scientist</td>\n",
       "      <td>70000</td>\n",
       "      <td>EUR</td>\n",
       "      <td>79833</td>\n",
       "      <td>DE</td>\n",
       "      <td>0</td>\n",
       "      <td>DE</td>\n",
       "      <td>L</td>\n",
       "    </tr>\n",
       "    <tr>\n",
       "      <th>1</th>\n",
       "      <td>1</td>\n",
       "      <td>2020</td>\n",
       "      <td>SE</td>\n",
       "      <td>FT</td>\n",
       "      <td>Machine Learning Scientist</td>\n",
       "      <td>260000</td>\n",
       "      <td>USD</td>\n",
       "      <td>260000</td>\n",
       "      <td>JP</td>\n",
       "      <td>0</td>\n",
       "      <td>JP</td>\n",
       "      <td>S</td>\n",
       "    </tr>\n",
       "    <tr>\n",
       "      <th>2</th>\n",
       "      <td>2</td>\n",
       "      <td>2020</td>\n",
       "      <td>SE</td>\n",
       "      <td>FT</td>\n",
       "      <td>Big Data Engineer</td>\n",
       "      <td>85000</td>\n",
       "      <td>GBP</td>\n",
       "      <td>109024</td>\n",
       "      <td>GB</td>\n",
       "      <td>50</td>\n",
       "      <td>GB</td>\n",
       "      <td>M</td>\n",
       "    </tr>\n",
       "    <tr>\n",
       "      <th>3</th>\n",
       "      <td>3</td>\n",
       "      <td>2020</td>\n",
       "      <td>MI</td>\n",
       "      <td>FT</td>\n",
       "      <td>Product Data Analyst</td>\n",
       "      <td>20000</td>\n",
       "      <td>USD</td>\n",
       "      <td>20000</td>\n",
       "      <td>HN</td>\n",
       "      <td>0</td>\n",
       "      <td>HN</td>\n",
       "      <td>S</td>\n",
       "    </tr>\n",
       "    <tr>\n",
       "      <th>4</th>\n",
       "      <td>4</td>\n",
       "      <td>2020</td>\n",
       "      <td>SE</td>\n",
       "      <td>FT</td>\n",
       "      <td>Machine Learning Engineer</td>\n",
       "      <td>150000</td>\n",
       "      <td>USD</td>\n",
       "      <td>150000</td>\n",
       "      <td>US</td>\n",
       "      <td>50</td>\n",
       "      <td>US</td>\n",
       "      <td>L</td>\n",
       "    </tr>\n",
       "    <tr>\n",
       "      <th>...</th>\n",
       "      <td>...</td>\n",
       "      <td>...</td>\n",
       "      <td>...</td>\n",
       "      <td>...</td>\n",
       "      <td>...</td>\n",
       "      <td>...</td>\n",
       "      <td>...</td>\n",
       "      <td>...</td>\n",
       "      <td>...</td>\n",
       "      <td>...</td>\n",
       "      <td>...</td>\n",
       "      <td>...</td>\n",
       "    </tr>\n",
       "    <tr>\n",
       "      <th>602</th>\n",
       "      <td>602</td>\n",
       "      <td>2022</td>\n",
       "      <td>SE</td>\n",
       "      <td>FT</td>\n",
       "      <td>Data Engineer</td>\n",
       "      <td>154000</td>\n",
       "      <td>USD</td>\n",
       "      <td>154000</td>\n",
       "      <td>US</td>\n",
       "      <td>100</td>\n",
       "      <td>US</td>\n",
       "      <td>M</td>\n",
       "    </tr>\n",
       "    <tr>\n",
       "      <th>603</th>\n",
       "      <td>603</td>\n",
       "      <td>2022</td>\n",
       "      <td>SE</td>\n",
       "      <td>FT</td>\n",
       "      <td>Data Engineer</td>\n",
       "      <td>126000</td>\n",
       "      <td>USD</td>\n",
       "      <td>126000</td>\n",
       "      <td>US</td>\n",
       "      <td>100</td>\n",
       "      <td>US</td>\n",
       "      <td>M</td>\n",
       "    </tr>\n",
       "    <tr>\n",
       "      <th>604</th>\n",
       "      <td>604</td>\n",
       "      <td>2022</td>\n",
       "      <td>SE</td>\n",
       "      <td>FT</td>\n",
       "      <td>Data Analyst</td>\n",
       "      <td>129000</td>\n",
       "      <td>USD</td>\n",
       "      <td>129000</td>\n",
       "      <td>US</td>\n",
       "      <td>0</td>\n",
       "      <td>US</td>\n",
       "      <td>M</td>\n",
       "    </tr>\n",
       "    <tr>\n",
       "      <th>605</th>\n",
       "      <td>605</td>\n",
       "      <td>2022</td>\n",
       "      <td>SE</td>\n",
       "      <td>FT</td>\n",
       "      <td>Data Analyst</td>\n",
       "      <td>150000</td>\n",
       "      <td>USD</td>\n",
       "      <td>150000</td>\n",
       "      <td>US</td>\n",
       "      <td>100</td>\n",
       "      <td>US</td>\n",
       "      <td>M</td>\n",
       "    </tr>\n",
       "    <tr>\n",
       "      <th>606</th>\n",
       "      <td>606</td>\n",
       "      <td>2022</td>\n",
       "      <td>MI</td>\n",
       "      <td>FT</td>\n",
       "      <td>AI Scientist</td>\n",
       "      <td>200000</td>\n",
       "      <td>USD</td>\n",
       "      <td>200000</td>\n",
       "      <td>IN</td>\n",
       "      <td>100</td>\n",
       "      <td>US</td>\n",
       "      <td>L</td>\n",
       "    </tr>\n",
       "  </tbody>\n",
       "</table>\n",
       "<p>607 rows × 12 columns</p>\n",
       "</div>"
      ],
      "text/plain": [
       "     Unnamed: 0  work_year experience_level employment_type  \\\n",
       "0             0       2020               MI              FT   \n",
       "1             1       2020               SE              FT   \n",
       "2             2       2020               SE              FT   \n",
       "3             3       2020               MI              FT   \n",
       "4             4       2020               SE              FT   \n",
       "..          ...        ...              ...             ...   \n",
       "602         602       2022               SE              FT   \n",
       "603         603       2022               SE              FT   \n",
       "604         604       2022               SE              FT   \n",
       "605         605       2022               SE              FT   \n",
       "606         606       2022               MI              FT   \n",
       "\n",
       "                      job_title  salary salary_currency  salary_in_usd  \\\n",
       "0                Data Scientist   70000             EUR          79833   \n",
       "1    Machine Learning Scientist  260000             USD         260000   \n",
       "2             Big Data Engineer   85000             GBP         109024   \n",
       "3          Product Data Analyst   20000             USD          20000   \n",
       "4     Machine Learning Engineer  150000             USD         150000   \n",
       "..                          ...     ...             ...            ...   \n",
       "602               Data Engineer  154000             USD         154000   \n",
       "603               Data Engineer  126000             USD         126000   \n",
       "604                Data Analyst  129000             USD         129000   \n",
       "605                Data Analyst  150000             USD         150000   \n",
       "606                AI Scientist  200000             USD         200000   \n",
       "\n",
       "    employee_residence  remote_ratio company_location company_size  \n",
       "0                   DE             0               DE            L  \n",
       "1                   JP             0               JP            S  \n",
       "2                   GB            50               GB            M  \n",
       "3                   HN             0               HN            S  \n",
       "4                   US            50               US            L  \n",
       "..                 ...           ...              ...          ...  \n",
       "602                 US           100               US            M  \n",
       "603                 US           100               US            M  \n",
       "604                 US             0               US            M  \n",
       "605                 US           100               US            M  \n",
       "606                 IN           100               US            L  \n",
       "\n",
       "[607 rows x 12 columns]"
      ]
     },
     "execution_count": 60,
     "metadata": {},
     "output_type": "execute_result"
    }
   ],
   "source": [
    "data = pd.read_csv('ds_salaries.csv')\n",
    "data"
   ]
  },
  {
   "cell_type": "markdown",
   "id": "15f24705",
   "metadata": {},
   "source": [
    "### description statistique"
   ]
  },
  {
   "cell_type": "code",
   "execution_count": 7,
   "id": "75d0bc51",
   "metadata": {},
   "outputs": [
    {
     "data": {
      "text/html": [
       "<div>\n",
       "<style scoped>\n",
       "    .dataframe tbody tr th:only-of-type {\n",
       "        vertical-align: middle;\n",
       "    }\n",
       "\n",
       "    .dataframe tbody tr th {\n",
       "        vertical-align: top;\n",
       "    }\n",
       "\n",
       "    .dataframe thead th {\n",
       "        text-align: right;\n",
       "    }\n",
       "</style>\n",
       "<table border=\"1\" class=\"dataframe\">\n",
       "  <thead>\n",
       "    <tr style=\"text-align: right;\">\n",
       "      <th></th>\n",
       "      <th>Unnamed: 0</th>\n",
       "      <th>work_year</th>\n",
       "      <th>salary</th>\n",
       "      <th>salary_in_usd</th>\n",
       "      <th>remote_ratio</th>\n",
       "    </tr>\n",
       "  </thead>\n",
       "  <tbody>\n",
       "    <tr>\n",
       "      <th>count</th>\n",
       "      <td>607.000000</td>\n",
       "      <td>607.000000</td>\n",
       "      <td>6.070000e+02</td>\n",
       "      <td>607.000000</td>\n",
       "      <td>607.00000</td>\n",
       "    </tr>\n",
       "    <tr>\n",
       "      <th>mean</th>\n",
       "      <td>303.000000</td>\n",
       "      <td>2021.405272</td>\n",
       "      <td>3.240001e+05</td>\n",
       "      <td>112297.869852</td>\n",
       "      <td>70.92257</td>\n",
       "    </tr>\n",
       "    <tr>\n",
       "      <th>std</th>\n",
       "      <td>175.370085</td>\n",
       "      <td>0.692133</td>\n",
       "      <td>1.544357e+06</td>\n",
       "      <td>70957.259411</td>\n",
       "      <td>40.70913</td>\n",
       "    </tr>\n",
       "    <tr>\n",
       "      <th>min</th>\n",
       "      <td>0.000000</td>\n",
       "      <td>2020.000000</td>\n",
       "      <td>4.000000e+03</td>\n",
       "      <td>2859.000000</td>\n",
       "      <td>0.00000</td>\n",
       "    </tr>\n",
       "    <tr>\n",
       "      <th>25%</th>\n",
       "      <td>151.500000</td>\n",
       "      <td>2021.000000</td>\n",
       "      <td>7.000000e+04</td>\n",
       "      <td>62726.000000</td>\n",
       "      <td>50.00000</td>\n",
       "    </tr>\n",
       "    <tr>\n",
       "      <th>50%</th>\n",
       "      <td>303.000000</td>\n",
       "      <td>2022.000000</td>\n",
       "      <td>1.150000e+05</td>\n",
       "      <td>101570.000000</td>\n",
       "      <td>100.00000</td>\n",
       "    </tr>\n",
       "    <tr>\n",
       "      <th>75%</th>\n",
       "      <td>454.500000</td>\n",
       "      <td>2022.000000</td>\n",
       "      <td>1.650000e+05</td>\n",
       "      <td>150000.000000</td>\n",
       "      <td>100.00000</td>\n",
       "    </tr>\n",
       "    <tr>\n",
       "      <th>max</th>\n",
       "      <td>606.000000</td>\n",
       "      <td>2022.000000</td>\n",
       "      <td>3.040000e+07</td>\n",
       "      <td>600000.000000</td>\n",
       "      <td>100.00000</td>\n",
       "    </tr>\n",
       "  </tbody>\n",
       "</table>\n",
       "</div>"
      ],
      "text/plain": [
       "       Unnamed: 0    work_year        salary  salary_in_usd  remote_ratio\n",
       "count  607.000000   607.000000  6.070000e+02     607.000000     607.00000\n",
       "mean   303.000000  2021.405272  3.240001e+05  112297.869852      70.92257\n",
       "std    175.370085     0.692133  1.544357e+06   70957.259411      40.70913\n",
       "min      0.000000  2020.000000  4.000000e+03    2859.000000       0.00000\n",
       "25%    151.500000  2021.000000  7.000000e+04   62726.000000      50.00000\n",
       "50%    303.000000  2022.000000  1.150000e+05  101570.000000     100.00000\n",
       "75%    454.500000  2022.000000  1.650000e+05  150000.000000     100.00000\n",
       "max    606.000000  2022.000000  3.040000e+07  600000.000000     100.00000"
      ]
     },
     "execution_count": 7,
     "metadata": {},
     "output_type": "execute_result"
    }
   ],
   "source": [
    "data.describe()"
   ]
  },
  {
   "cell_type": "markdown",
   "id": "67893bba",
   "metadata": {},
   "source": [
    "### Obtenir des informations sur les variables"
   ]
  },
  {
   "cell_type": "code",
   "execution_count": 8,
   "id": "90006496",
   "metadata": {},
   "outputs": [
    {
     "name": "stdout",
     "output_type": "stream",
     "text": [
      "<class 'pandas.core.frame.DataFrame'>\n",
      "RangeIndex: 607 entries, 0 to 606\n",
      "Data columns (total 12 columns):\n",
      " #   Column              Non-Null Count  Dtype \n",
      "---  ------              --------------  ----- \n",
      " 0   Unnamed: 0          607 non-null    int64 \n",
      " 1   work_year           607 non-null    int64 \n",
      " 2   experience_level    607 non-null    object\n",
      " 3   employment_type     607 non-null    object\n",
      " 4   job_title           607 non-null    object\n",
      " 5   salary              607 non-null    int64 \n",
      " 6   salary_currency     607 non-null    object\n",
      " 7   salary_in_usd       607 non-null    int64 \n",
      " 8   employee_residence  607 non-null    object\n",
      " 9   remote_ratio        607 non-null    int64 \n",
      " 10  company_location    607 non-null    object\n",
      " 11  company_size        607 non-null    object\n",
      "dtypes: int64(5), object(7)\n",
      "memory usage: 57.0+ KB\n"
     ]
    }
   ],
   "source": [
    "data.info()"
   ]
  },
  {
   "cell_type": "markdown",
   "id": "707acb8e",
   "metadata": {},
   "source": [
    "### Obtenir les dimensions du dataframe"
   ]
  },
  {
   "cell_type": "code",
   "execution_count": 10,
   "id": "09386249",
   "metadata": {},
   "outputs": [
    {
     "data": {
      "text/plain": [
       "(607, 12)"
      ]
     },
     "execution_count": 10,
     "metadata": {},
     "output_type": "execute_result"
    }
   ],
   "source": [
    "data.shape"
   ]
  },
  {
   "cell_type": "markdown",
   "id": "d3023701",
   "metadata": {},
   "source": [
    "### data types"
   ]
  },
  {
   "cell_type": "code",
   "execution_count": 12,
   "id": "e1c95400",
   "metadata": {},
   "outputs": [
    {
     "data": {
      "text/plain": [
       "Unnamed: 0             int64\n",
       "work_year              int64\n",
       "experience_level      object\n",
       "employment_type       object\n",
       "job_title             object\n",
       "salary                 int64\n",
       "salary_currency       object\n",
       "salary_in_usd          int64\n",
       "employee_residence    object\n",
       "remote_ratio           int64\n",
       "company_location      object\n",
       "company_size          object\n",
       "dtype: object"
      ]
     },
     "execution_count": 12,
     "metadata": {},
     "output_type": "execute_result"
    }
   ],
   "source": [
    "data.dtypes"
   ]
  },
  {
   "cell_type": "markdown",
   "id": "90eb87aa",
   "metadata": {},
   "source": [
    "### Compter le nombre de valeurs manquantes"
   ]
  },
  {
   "cell_type": "code",
   "execution_count": 13,
   "id": "ac45ae59",
   "metadata": {},
   "outputs": [
    {
     "data": {
      "text/plain": [
       "Unnamed: 0            0\n",
       "work_year             0\n",
       "experience_level      0\n",
       "employment_type       0\n",
       "job_title             0\n",
       "salary                0\n",
       "salary_currency       0\n",
       "salary_in_usd         0\n",
       "employee_residence    0\n",
       "remote_ratio          0\n",
       "company_location      0\n",
       "company_size          0\n",
       "dtype: int64"
      ]
     },
     "execution_count": 13,
     "metadata": {},
     "output_type": "execute_result"
    }
   ],
   "source": [
    "data.isnull().sum()"
   ]
  },
  {
   "cell_type": "markdown",
   "id": "4dd36a29",
   "metadata": {},
   "source": [
    "### Afficher les premières lignes "
   ]
  },
  {
   "cell_type": "code",
   "execution_count": 14,
   "id": "9cc1b3e0",
   "metadata": {},
   "outputs": [
    {
     "data": {
      "text/html": [
       "<div>\n",
       "<style scoped>\n",
       "    .dataframe tbody tr th:only-of-type {\n",
       "        vertical-align: middle;\n",
       "    }\n",
       "\n",
       "    .dataframe tbody tr th {\n",
       "        vertical-align: top;\n",
       "    }\n",
       "\n",
       "    .dataframe thead th {\n",
       "        text-align: right;\n",
       "    }\n",
       "</style>\n",
       "<table border=\"1\" class=\"dataframe\">\n",
       "  <thead>\n",
       "    <tr style=\"text-align: right;\">\n",
       "      <th></th>\n",
       "      <th>Unnamed: 0</th>\n",
       "      <th>work_year</th>\n",
       "      <th>experience_level</th>\n",
       "      <th>employment_type</th>\n",
       "      <th>job_title</th>\n",
       "      <th>salary</th>\n",
       "      <th>salary_currency</th>\n",
       "      <th>salary_in_usd</th>\n",
       "      <th>employee_residence</th>\n",
       "      <th>remote_ratio</th>\n",
       "      <th>company_location</th>\n",
       "      <th>company_size</th>\n",
       "    </tr>\n",
       "  </thead>\n",
       "  <tbody>\n",
       "    <tr>\n",
       "      <th>0</th>\n",
       "      <td>0</td>\n",
       "      <td>2020</td>\n",
       "      <td>MI</td>\n",
       "      <td>FT</td>\n",
       "      <td>Data Scientist</td>\n",
       "      <td>70000</td>\n",
       "      <td>EUR</td>\n",
       "      <td>79833</td>\n",
       "      <td>DE</td>\n",
       "      <td>0</td>\n",
       "      <td>DE</td>\n",
       "      <td>L</td>\n",
       "    </tr>\n",
       "    <tr>\n",
       "      <th>1</th>\n",
       "      <td>1</td>\n",
       "      <td>2020</td>\n",
       "      <td>SE</td>\n",
       "      <td>FT</td>\n",
       "      <td>Machine Learning Scientist</td>\n",
       "      <td>260000</td>\n",
       "      <td>USD</td>\n",
       "      <td>260000</td>\n",
       "      <td>JP</td>\n",
       "      <td>0</td>\n",
       "      <td>JP</td>\n",
       "      <td>S</td>\n",
       "    </tr>\n",
       "    <tr>\n",
       "      <th>2</th>\n",
       "      <td>2</td>\n",
       "      <td>2020</td>\n",
       "      <td>SE</td>\n",
       "      <td>FT</td>\n",
       "      <td>Big Data Engineer</td>\n",
       "      <td>85000</td>\n",
       "      <td>GBP</td>\n",
       "      <td>109024</td>\n",
       "      <td>GB</td>\n",
       "      <td>50</td>\n",
       "      <td>GB</td>\n",
       "      <td>M</td>\n",
       "    </tr>\n",
       "    <tr>\n",
       "      <th>3</th>\n",
       "      <td>3</td>\n",
       "      <td>2020</td>\n",
       "      <td>MI</td>\n",
       "      <td>FT</td>\n",
       "      <td>Product Data Analyst</td>\n",
       "      <td>20000</td>\n",
       "      <td>USD</td>\n",
       "      <td>20000</td>\n",
       "      <td>HN</td>\n",
       "      <td>0</td>\n",
       "      <td>HN</td>\n",
       "      <td>S</td>\n",
       "    </tr>\n",
       "    <tr>\n",
       "      <th>4</th>\n",
       "      <td>4</td>\n",
       "      <td>2020</td>\n",
       "      <td>SE</td>\n",
       "      <td>FT</td>\n",
       "      <td>Machine Learning Engineer</td>\n",
       "      <td>150000</td>\n",
       "      <td>USD</td>\n",
       "      <td>150000</td>\n",
       "      <td>US</td>\n",
       "      <td>50</td>\n",
       "      <td>US</td>\n",
       "      <td>L</td>\n",
       "    </tr>\n",
       "  </tbody>\n",
       "</table>\n",
       "</div>"
      ],
      "text/plain": [
       "   Unnamed: 0  work_year experience_level employment_type  \\\n",
       "0           0       2020               MI              FT   \n",
       "1           1       2020               SE              FT   \n",
       "2           2       2020               SE              FT   \n",
       "3           3       2020               MI              FT   \n",
       "4           4       2020               SE              FT   \n",
       "\n",
       "                    job_title  salary salary_currency  salary_in_usd  \\\n",
       "0              Data Scientist   70000             EUR          79833   \n",
       "1  Machine Learning Scientist  260000             USD         260000   \n",
       "2           Big Data Engineer   85000             GBP         109024   \n",
       "3        Product Data Analyst   20000             USD          20000   \n",
       "4   Machine Learning Engineer  150000             USD         150000   \n",
       "\n",
       "  employee_residence  remote_ratio company_location company_size  \n",
       "0                 DE             0               DE            L  \n",
       "1                 JP             0               JP            S  \n",
       "2                 GB            50               GB            M  \n",
       "3                 HN             0               HN            S  \n",
       "4                 US            50               US            L  "
      ]
     },
     "execution_count": 14,
     "metadata": {},
     "output_type": "execute_result"
    }
   ],
   "source": [
    "data.head()"
   ]
  },
  {
   "cell_type": "markdown",
   "id": "840058b2",
   "metadata": {},
   "source": [
    "### Créer un histogramme d'une variable "
   ]
  },
  {
   "cell_type": "code",
   "execution_count": 47,
   "id": "3912e16b",
   "metadata": {},
   "outputs": [
    {
     "data": {
      "text/plain": [
       "<function matplotlib.pyplot.show(close=None, block=None)>"
      ]
     },
     "execution_count": 47,
     "metadata": {},
     "output_type": "execute_result"
    },
    {
     "data": {
      "image/png": "[encoded data removed]",
      "text/plain": [
       "<Figure size 640x480 with 1 Axes>"
      ]
     },
     "metadata": {},
     "output_type": "display_data"
    }
   ],
   "source": [
    "plt.hist(data['salary_currency'], bins=40)\n",
    "\n",
    "# Ajouter un titre et des étiquettes d'axes\n",
    "plt.title('Histogramme de Salary currency')\n",
    "plt.xlabel('currency')\n",
    "plt.ylabel('Fréquence')\n",
    "plt.xticks(fontsize=8)\n",
    "plt.show\n"
   ]
  },
  {
   "cell_type": "code",
   "execution_count": 46,
   "id": "b32286cb",
   "metadata": {},
   "outputs": [
    {
     "data": {
      "image/png": "[encoded data removed]",
      "text/plain": [
       "<Figure size 640x480 with 1 Axes>"
      ]
     },
     "metadata": {},
     "output_type": "display_data"
    }
   ],
   "source": [
    "plt.hist(data['company_size'], bins=10)\n",
    "\n",
    "# Ajouter un titre et des étiquettes d'axes\n",
    "plt.title('Histogramme de taille de l\\'entreprise')\n",
    "plt.xlabel('Company size')\n",
    "plt.ylabel('Fréquence')\n",
    "plt.show()"
   ]
  },
  {
   "cell_type": "markdown",
   "id": "662b9039",
   "metadata": {},
   "source": [
    "### groupby compte le nombre d'occurrences de chaque valeur unique dans la colonne"
   ]
  },
  {
   "cell_type": "markdown",
   "id": "9611c0da",
   "metadata": {},
   "source": [
    "#### 1- experience_level"
   ]
  },
  {
   "cell_type": "code",
   "execution_count": 49,
   "id": "fb37475d",
   "metadata": {},
   "outputs": [
    {
     "name": "stdout",
     "output_type": "stream",
     "text": [
      "experience_level\n",
      "EN     88\n",
      "EX     26\n",
      "MI    213\n",
      "SE    280\n",
      "dtype: int64\n"
     ]
    }
   ],
   "source": [
    "nbClasse_experience_level = data.groupby('experience_level').size()\n",
    "print(nbClasse_experience_level)"
   ]
  },
  {
   "cell_type": "markdown",
   "id": "68a7636c",
   "metadata": {},
   "source": [
    "#### 2-employment_type"
   ]
  },
  {
   "cell_type": "code",
   "execution_count": 50,
   "id": "3f39a951",
   "metadata": {},
   "outputs": [
    {
     "name": "stdout",
     "output_type": "stream",
     "text": [
      "employment_type\n",
      "CT      5\n",
      "FL      4\n",
      "FT    588\n",
      "PT     10\n",
      "dtype: int64\n"
     ]
    }
   ],
   "source": [
    "nbClasse_employment_type = data.groupby('employment_type').size()\n",
    "print(nbClasse_employment_type)"
   ]
  },
  {
   "cell_type": "markdown",
   "id": "7c58e4db",
   "metadata": {},
   "source": [
    "#### 3-job_title"
   ]
  },
  {
   "cell_type": "code",
   "execution_count": 52,
   "id": "1eabec88",
   "metadata": {},
   "outputs": [
    {
     "name": "stdout",
     "output_type": "stream",
     "text": [
      "job_title\n",
      "3D Computer Vision Researcher                 1\n",
      "AI Scientist                                  7\n",
      "Analytics Engineer                            4\n",
      "Applied Data Scientist                        5\n",
      "Applied Machine Learning Scientist            4\n",
      "BI Data Analyst                               6\n",
      "Big Data Architect                            1\n",
      "Big Data Engineer                             8\n",
      "Business Data Analyst                         5\n",
      "Cloud Data Engineer                           2\n",
      "Computer Vision Engineer                      6\n",
      "Computer Vision Software Engineer             3\n",
      "Data Analyst                                 97\n",
      "Data Analytics Engineer                       4\n",
      "Data Analytics Lead                           1\n",
      "Data Analytics Manager                        7\n",
      "Data Architect                               11\n",
      "Data Engineer                               132\n",
      "Data Engineering Manager                      5\n",
      "Data Science Consultant                       7\n",
      "Data Science Engineer                         3\n",
      "Data Science Manager                         12\n",
      "Data Scientist                              143\n",
      "Data Specialist                               1\n",
      "Director of Data Engineering                  2\n",
      "Director of Data Science                      7\n",
      "ETL Developer                                 2\n",
      "Finance Data Analyst                          1\n",
      "Financial Data Analyst                        2\n",
      "Head of Data                                  5\n",
      "Head of Data Science                          4\n",
      "Head of Machine Learning                      1\n",
      "Lead Data Analyst                             3\n",
      "Lead Data Engineer                            6\n",
      "Lead Data Scientist                           3\n",
      "Lead Machine Learning Engineer                1\n",
      "ML Engineer                                   6\n",
      "Machine Learning Developer                    3\n",
      "Machine Learning Engineer                    41\n",
      "Machine Learning Infrastructure Engineer      3\n",
      "Machine Learning Manager                      1\n",
      "Machine Learning Scientist                    8\n",
      "Marketing Data Analyst                        1\n",
      "NLP Engineer                                  1\n",
      "Principal Data Analyst                        2\n",
      "Principal Data Engineer                       3\n",
      "Principal Data Scientist                      7\n",
      "Product Data Analyst                          2\n",
      "Research Scientist                           16\n",
      "Staff Data Scientist                          1\n",
      "dtype: int64\n"
     ]
    }
   ],
   "source": [
    "nbClasse_job_title = data.groupby('job_title').size()\n",
    "print(nbClasse_job_title)"
   ]
  },
  {
   "cell_type": "markdown",
   "id": "553f2993",
   "metadata": {},
   "source": [
    "#### 4-salary_currency"
   ]
  },
  {
   "cell_type": "code",
   "execution_count": 53,
   "id": "4a025156",
   "metadata": {},
   "outputs": [
    {
     "name": "stdout",
     "output_type": "stream",
     "text": [
      "salary_currency\n",
      "AUD      2\n",
      "BRL      2\n",
      "CAD     18\n",
      "CHF      1\n",
      "CLP      1\n",
      "CNY      2\n",
      "DKK      2\n",
      "EUR     95\n",
      "GBP     44\n",
      "HUF      2\n",
      "INR     27\n",
      "JPY      3\n",
      "MXN      2\n",
      "PLN      3\n",
      "SGD      2\n",
      "TRY      3\n",
      "USD    398\n",
      "dtype: int64\n"
     ]
    }
   ],
   "source": [
    "nbClasse_salary_currency = data.groupby('salary_currency').size()\n",
    "print(nbClasse_salary_currency)"
   ]
  },
  {
   "cell_type": "markdown",
   "id": "7f375a8b",
   "metadata": {},
   "source": [
    "#### 5-employee_residence"
   ]
  },
  {
   "cell_type": "code",
   "execution_count": 54,
   "id": "a5876740",
   "metadata": {},
   "outputs": [
    {
     "name": "stdout",
     "output_type": "stream",
     "text": [
      "employee_residence\n",
      "AE      3\n",
      "AR      1\n",
      "AT      3\n",
      "AU      3\n",
      "BE      2\n",
      "BG      1\n",
      "BO      1\n",
      "BR      6\n",
      "CA     29\n",
      "CH      1\n",
      "CL      1\n",
      "CN      1\n",
      "CO      1\n",
      "CZ      1\n",
      "DE     25\n",
      "DK      2\n",
      "DZ      1\n",
      "EE      1\n",
      "ES     15\n",
      "FR     18\n",
      "GB     44\n",
      "GR     13\n",
      "HK      1\n",
      "HN      1\n",
      "HR      1\n",
      "HU      2\n",
      "IE      1\n",
      "IN     30\n",
      "IQ      1\n",
      "IR      1\n",
      "IT      4\n",
      "JE      1\n",
      "JP      7\n",
      "KE      1\n",
      "LU      1\n",
      "MD      1\n",
      "MT      1\n",
      "MX      2\n",
      "MY      1\n",
      "NG      2\n",
      "NL      5\n",
      "NZ      1\n",
      "PH      1\n",
      "PK      6\n",
      "PL      4\n",
      "PR      1\n",
      "PT      6\n",
      "RO      2\n",
      "RS      1\n",
      "RU      4\n",
      "SG      2\n",
      "SI      2\n",
      "TN      1\n",
      "TR      3\n",
      "UA      1\n",
      "US    332\n",
      "VN      3\n",
      "dtype: int64\n"
     ]
    }
   ],
   "source": [
    "nbClasse_employee_residence = data.groupby('employee_residence').size()\n",
    "print(nbClasse_employee_residence)"
   ]
  },
  {
   "cell_type": "markdown",
   "id": "a53d6c6a",
   "metadata": {},
   "source": [
    "#### 6- company_location"
   ]
  },
  {
   "cell_type": "code",
   "execution_count": 55,
   "id": "b12af3ce",
   "metadata": {},
   "outputs": [
    {
     "name": "stdout",
     "output_type": "stream",
     "text": [
      "company_location\n",
      "AE      3\n",
      "AS      1\n",
      "AT      4\n",
      "AU      3\n",
      "BE      2\n",
      "BR      3\n",
      "CA     30\n",
      "CH      2\n",
      "CL      1\n",
      "CN      2\n",
      "CO      1\n",
      "CZ      2\n",
      "DE     28\n",
      "DK      3\n",
      "DZ      1\n",
      "EE      1\n",
      "ES     14\n",
      "FR     15\n",
      "GB     47\n",
      "GR     11\n",
      "HN      1\n",
      "HR      1\n",
      "HU      1\n",
      "IE      1\n",
      "IL      1\n",
      "IN     24\n",
      "IQ      1\n",
      "IR      1\n",
      "IT      2\n",
      "JP      6\n",
      "KE      1\n",
      "LU      3\n",
      "MD      1\n",
      "MT      1\n",
      "MX      3\n",
      "MY      1\n",
      "NG      2\n",
      "NL      4\n",
      "NZ      1\n",
      "PK      3\n",
      "PL      4\n",
      "PT      4\n",
      "RO      1\n",
      "RU      2\n",
      "SG      1\n",
      "SI      2\n",
      "TR      3\n",
      "UA      1\n",
      "US    355\n",
      "VN      1\n",
      "dtype: int64\n"
     ]
    }
   ],
   "source": [
    "nbClasse_company_location = data.groupby('company_location').size()\n",
    "print(nbClasse_company_location)"
   ]
  },
  {
   "cell_type": "markdown",
   "id": "ae9dccf5",
   "metadata": {},
   "source": [
    "#### 7-company_size"
   ]
  },
  {
   "cell_type": "code",
   "execution_count": 56,
   "id": "ea289b47",
   "metadata": {},
   "outputs": [
    {
     "name": "stdout",
     "output_type": "stream",
     "text": [
      "company_size\n",
      "L    198\n",
      "M    326\n",
      "S     83\n",
      "dtype: int64\n"
     ]
    }
   ],
   "source": [
    "nbClasse_company_size = data.groupby('company_size').size()\n",
    "print(nbClasse_company_size)"
   ]
  },
  {
   "cell_type": "markdown",
   "id": "86448993",
   "metadata": {},
   "source": [
    "## Change String to Int"
   ]
  },
  {
   "cell_type": "code",
   "execution_count": 61,
   "id": "5fca4745",
   "metadata": {},
   "outputs": [],
   "source": [
    "data['experience_level']=data['experience_level'].map({'EN':0, \n",
    "                                               'EX':1, \n",
    "                                               'MI':2, \n",
    "                                               'SE':3})\n",
    "#\n",
    "data['employment_type']=data['employment_type'].map({'CT':0, \n",
    "                                               'FL':1, \n",
    "                                               'FT':2, \n",
    "                                               'PT':3})\n",
    "# \n",
    "\n",
    "\n",
    "#\n",
    "data['job_title']=data['job_title'].map({'3D Computer Vision Researcher':0, \n",
    "                                               'AI Scientist':1, \n",
    "                                               'Analytics Engineer ':2,\n",
    "                                               'Applied Data Scientist':3,\n",
    "                                               'Applied Machine Learning Scientist':4,\n",
    "                                               'Data Scientist':5,\n",
    "                                               'BI Data Analyst':6,\n",
    "                                               'Big Data Architect ':7, \n",
    "                                               'Big Data Engineer':8, \n",
    "                                               'Business Data Analyst':9,\n",
    "                                               'Cloud Data Engineer ':10,\n",
    "                                               'Computer Vision Engineer':11,\n",
    "                                               'Computer Vision Software Engineer':12,\n",
    "                                               'Data Analyst':13,\n",
    "                                               'Data Analytics Engineer':14, \n",
    "                                               'Data Analytics Lead ':15, \n",
    "                                               'Data Analytics Manager':16,\n",
    "                                               'Data Architect':17,\n",
    "                                               'Data Engineer':18,\n",
    "                                               'Data Engineering Manager':19,\n",
    "                                               'Data Science Consultant':20,\n",
    "                                               'Data Science Engineer':21,\n",
    "                                               'Data Science Manager':22,\n",
    "                                               'Data Scientist':23, \n",
    "                                               'Data Specialist':24, \n",
    "                                               'Director of Data Engineering':25,\n",
    "                                               'Director of Data Science':26,\n",
    "                                               'ETL Developer':27,\n",
    "                                               'Finance Data Analyst':28,\n",
    "                                               'Financial Data Analyst':29,\n",
    "                                               'Head of Data':30, \n",
    "                                               'Head of Data Science':31, \n",
    "                                               'Head of Machine Learning':32,\n",
    "                                               'Lead Data Analyst':33,\n",
    "                                               'Lead Data Engineer':34,\n",
    "                                               'Lead Data Scientist':35,\n",
    "                                               'Lead Machine Learning Engineer':36,\n",
    "                                               'ML Engineer':37, \n",
    "                                               'Machine Learning Developer':38, \n",
    "                                               'Machine Learning Engineer':39,\n",
    "                                               'Machine Learning Infrastructure Engineer':40,\n",
    "                                               'Machine Learning Manager':41,\n",
    "                                               'Machine Learning Scientist':42,\n",
    "                                               'Marketing Data Analyst':43,\n",
    "                                               'NLP Engineer':44,\n",
    "                                               'Principal Data Analyst':45,\n",
    "                                               'Principal Data Engineer':46,\n",
    "                                               'Principal Data Scientist':47,\n",
    "                                               'Product Data Analyst':48,\n",
    "                                               'Research Scientist':49,\n",
    "                                               'Staff Data Scientist':50})\n",
    "\n",
    "\n",
    "#\n",
    "#\n",
    "data['salary_currency']=data['salary_currency'].map({'AUD':0, \n",
    "                                               'BRL':1, \n",
    "                                                'CAD':2,\n",
    "                                                'CHF':3, \n",
    "                                                'CLP':4,\n",
    "                                                'CNY':5, \n",
    "                                                'DKK':6,\n",
    "                                                'EUR':7,\n",
    "                                                'GBP':8,\n",
    "                                                'HUF':9,\n",
    "                                                'INR':10,\n",
    "                                                'JPY':11,\n",
    "                                                'MXN':12,\n",
    "                                                'PLN':13,\n",
    "                                                'SGD':14,\n",
    "                                                'TRY':15,\n",
    "                                                'USD':16})\n",
    "\n",
    "#emplyee residence\n",
    "\n",
    "\n",
    "\n",
    "\n",
    "data['employee_residence']=data['employee_residence'].map({'AE':0,\n",
    "                                                    'AR':1,\n",
    "                                                    'AT':2,\n",
    "                                                    'AU':3,\n",
    "                                                    'BE':4,\n",
    "                                                    'BG':5,\n",
    "                                                    'BO':6,\n",
    "                                                    'BR':7,\n",
    "                                                    'CA':8,\n",
    "                                                    'CH':9,\n",
    "                                                    'CL':10,\n",
    "                                                    'CN':11,\n",
    "                                                    'CO':12,\n",
    "                                                    'CZ':13,\n",
    "                                                    'DE':14,\n",
    "                                                    'DK':15,\n",
    "                                                    'DZ':16,\n",
    "                                                    'EE':17,\n",
    "                                                    'ES':18,\n",
    "                                                    'FR':19,\n",
    "                                                    'GB':20,\n",
    "                                                    'GR':21,\n",
    "                                                    'HK':22,\n",
    "                                                    'HN':23,\n",
    "                                                    'HR':24,\n",
    "                                                    'HU':25,\n",
    "                                                    'IE':26,\n",
    "                                                    'IN':27,\n",
    "                                                    'IQ':28,\n",
    "                                                    'IR':29,\n",
    "                                                    'IT':30,\n",
    "                                                    'JE':31,\n",
    "                                                    'JP':32,\n",
    "                                                    'KE':33,\n",
    "                                                    'LU':34,\n",
    "                                                    'MD':35,\n",
    "                                                    'MT':36,\n",
    "                                                    'MX':37,\n",
    "                                                    'MY':38,\n",
    "                                                    'NG':39,\n",
    "                                                    'NL':40,\n",
    "                                                    'NZ':41,\n",
    "                                                    'PH':42,\n",
    "                                                    'PK':42,\n",
    "                                                    'PL':43,\n",
    "                                                    'PR':44,\n",
    "                                                    'PT':45,\n",
    "                                                    'RO':46,\n",
    "                                                    'RS':47,\n",
    "                                                    'RU':48,\n",
    "                                                    'SG':49,\n",
    "                                                    'SI':50,\n",
    "                                                    'TN':51,\n",
    "                                                    'TR':52,\n",
    "                                                    'US':53,\n",
    "                                                    'US':54,\n",
    "                                                    'VN':55,\n",
    "                                                          })\n",
    "\n",
    "#company location \n",
    "\n",
    "data['company_location']=data['company_location'].map({'AE':0,\n",
    "                                                    'AS':1,\n",
    "                                                    'AT':2,\n",
    "                                                    'AU':3,\n",
    "                                                    'BE':4,\n",
    "                                                    'BR':5,\n",
    "                                                    'CA':6,\n",
    "                                                    'CH':7,\n",
    "                                                    'CL':8,\n",
    "                                                    'CN':9,\n",
    "                                                    'CO':10,\n",
    "                                                    'CZ':11,\n",
    "                                                    'DE':12,\n",
    "                                                    'DK':13,\n",
    "                                                    'DZ':14,\n",
    "                                                    'EE':15,\n",
    "                                                    'ES':16,\n",
    "                                                    'FR':17,\n",
    "                                                    'GB':18,\n",
    "                                                    'GR':19,\n",
    "                                                    'HN':20,\n",
    "                                                    'HR':21,\n",
    "                                                    'HU':22,\n",
    "                                                    'IE':23,\n",
    "                                                    'IL':24,\n",
    "                                                    'IN':25,\n",
    "                                                    'IQ':26,\n",
    "                                                    'IR':27,\n",
    "                                                    'IT':28,\n",
    "                                                    'JP':29,\n",
    "                                                    'KE':30,\n",
    "                                                    'LU':31,\n",
    "                                                    'MD':32,\n",
    "                                                    'MT':33,\n",
    "                                                    'MX':34,\n",
    "                                                    'MY':35,\n",
    "                                                    'NG':36,\n",
    "                                                    'NL':37,\n",
    "                                                    'NZ':38,\n",
    "                                                    'PK':39,\n",
    "                                                    'PL':40,\n",
    "                                                    'PT':41,\n",
    "                                                    'RO':42,\n",
    "                                                    'RU':42,\n",
    "                                                    'SG':43,\n",
    "                                                    'SI':44,\n",
    "                                                    'TR':45,\n",
    "                                                    'UA':46,\n",
    "                                                    'US':47,\n",
    "                                                    'VN':48})\n",
    "\n",
    "#size \n",
    "\n",
    "data['company_size']=data['company_size'].map({'L':0, \n",
    "                                               'M':1,  \n",
    "                                               'S':2})"
   ]
  },
  {
   "cell_type": "code",
   "execution_count": 62,
   "id": "0df34ad0",
   "metadata": {},
   "outputs": [
    {
     "data": {
      "text/html": [
       "<div>\n",
       "<style scoped>\n",
       "    .dataframe tbody tr th:only-of-type {\n",
       "        vertical-align: middle;\n",
       "    }\n",
       "\n",
       "    .dataframe tbody tr th {\n",
       "        vertical-align: top;\n",
       "    }\n",
       "\n",
       "    .dataframe thead th {\n",
       "        text-align: right;\n",
       "    }\n",
       "</style>\n",
       "<table border=\"1\" class=\"dataframe\">\n",
       "  <thead>\n",
       "    <tr style=\"text-align: right;\">\n",
       "      <th></th>\n",
       "      <th>Unnamed: 0</th>\n",
       "      <th>work_year</th>\n",
       "      <th>experience_level</th>\n",
       "      <th>employment_type</th>\n",
       "      <th>job_title</th>\n",
       "      <th>salary</th>\n",
       "      <th>salary_currency</th>\n",
       "      <th>salary_in_usd</th>\n",
       "      <th>employee_residence</th>\n",
       "      <th>remote_ratio</th>\n",
       "      <th>company_location</th>\n",
       "      <th>company_size</th>\n",
       "    </tr>\n",
       "  </thead>\n",
       "  <tbody>\n",
       "    <tr>\n",
       "      <th>0</th>\n",
       "      <td>0</td>\n",
       "      <td>2020</td>\n",
       "      <td>2</td>\n",
       "      <td>2</td>\n",
       "      <td>23.0</td>\n",
       "      <td>70000</td>\n",
       "      <td>7</td>\n",
       "      <td>79833</td>\n",
       "      <td>14.0</td>\n",
       "      <td>0</td>\n",
       "      <td>12</td>\n",
       "      <td>0</td>\n",
       "    </tr>\n",
       "    <tr>\n",
       "      <th>1</th>\n",
       "      <td>1</td>\n",
       "      <td>2020</td>\n",
       "      <td>3</td>\n",
       "      <td>2</td>\n",
       "      <td>42.0</td>\n",
       "      <td>260000</td>\n",
       "      <td>16</td>\n",
       "      <td>260000</td>\n",
       "      <td>32.0</td>\n",
       "      <td>0</td>\n",
       "      <td>29</td>\n",
       "      <td>2</td>\n",
       "    </tr>\n",
       "    <tr>\n",
       "      <th>2</th>\n",
       "      <td>2</td>\n",
       "      <td>2020</td>\n",
       "      <td>3</td>\n",
       "      <td>2</td>\n",
       "      <td>8.0</td>\n",
       "      <td>85000</td>\n",
       "      <td>8</td>\n",
       "      <td>109024</td>\n",
       "      <td>20.0</td>\n",
       "      <td>50</td>\n",
       "      <td>18</td>\n",
       "      <td>1</td>\n",
       "    </tr>\n",
       "    <tr>\n",
       "      <th>3</th>\n",
       "      <td>3</td>\n",
       "      <td>2020</td>\n",
       "      <td>2</td>\n",
       "      <td>2</td>\n",
       "      <td>48.0</td>\n",
       "      <td>20000</td>\n",
       "      <td>16</td>\n",
       "      <td>20000</td>\n",
       "      <td>23.0</td>\n",
       "      <td>0</td>\n",
       "      <td>20</td>\n",
       "      <td>2</td>\n",
       "    </tr>\n",
       "    <tr>\n",
       "      <th>4</th>\n",
       "      <td>4</td>\n",
       "      <td>2020</td>\n",
       "      <td>3</td>\n",
       "      <td>2</td>\n",
       "      <td>39.0</td>\n",
       "      <td>150000</td>\n",
       "      <td>16</td>\n",
       "      <td>150000</td>\n",
       "      <td>54.0</td>\n",
       "      <td>50</td>\n",
       "      <td>47</td>\n",
       "      <td>0</td>\n",
       "    </tr>\n",
       "    <tr>\n",
       "      <th>...</th>\n",
       "      <td>...</td>\n",
       "      <td>...</td>\n",
       "      <td>...</td>\n",
       "      <td>...</td>\n",
       "      <td>...</td>\n",
       "      <td>...</td>\n",
       "      <td>...</td>\n",
       "      <td>...</td>\n",
       "      <td>...</td>\n",
       "      <td>...</td>\n",
       "      <td>...</td>\n",
       "      <td>...</td>\n",
       "    </tr>\n",
       "    <tr>\n",
       "      <th>602</th>\n",
       "      <td>602</td>\n",
       "      <td>2022</td>\n",
       "      <td>3</td>\n",
       "      <td>2</td>\n",
       "      <td>18.0</td>\n",
       "      <td>154000</td>\n",
       "      <td>16</td>\n",
       "      <td>154000</td>\n",
       "      <td>54.0</td>\n",
       "      <td>100</td>\n",
       "      <td>47</td>\n",
       "      <td>1</td>\n",
       "    </tr>\n",
       "    <tr>\n",
       "      <th>603</th>\n",
       "      <td>603</td>\n",
       "      <td>2022</td>\n",
       "      <td>3</td>\n",
       "      <td>2</td>\n",
       "      <td>18.0</td>\n",
       "      <td>126000</td>\n",
       "      <td>16</td>\n",
       "      <td>126000</td>\n",
       "      <td>54.0</td>\n",
       "      <td>100</td>\n",
       "      <td>47</td>\n",
       "      <td>1</td>\n",
       "    </tr>\n",
       "    <tr>\n",
       "      <th>604</th>\n",
       "      <td>604</td>\n",
       "      <td>2022</td>\n",
       "      <td>3</td>\n",
       "      <td>2</td>\n",
       "      <td>13.0</td>\n",
       "      <td>129000</td>\n",
       "      <td>16</td>\n",
       "      <td>129000</td>\n",
       "      <td>54.0</td>\n",
       "      <td>0</td>\n",
       "      <td>47</td>\n",
       "      <td>1</td>\n",
       "    </tr>\n",
       "    <tr>\n",
       "      <th>605</th>\n",
       "      <td>605</td>\n",
       "      <td>2022</td>\n",
       "      <td>3</td>\n",
       "      <td>2</td>\n",
       "      <td>13.0</td>\n",
       "      <td>150000</td>\n",
       "      <td>16</td>\n",
       "      <td>150000</td>\n",
       "      <td>54.0</td>\n",
       "      <td>100</td>\n",
       "      <td>47</td>\n",
       "      <td>1</td>\n",
       "    </tr>\n",
       "    <tr>\n",
       "      <th>606</th>\n",
       "      <td>606</td>\n",
       "      <td>2022</td>\n",
       "      <td>2</td>\n",
       "      <td>2</td>\n",
       "      <td>1.0</td>\n",
       "      <td>200000</td>\n",
       "      <td>16</td>\n",
       "      <td>200000</td>\n",
       "      <td>27.0</td>\n",
       "      <td>100</td>\n",
       "      <td>47</td>\n",
       "      <td>0</td>\n",
       "    </tr>\n",
       "  </tbody>\n",
       "</table>\n",
       "<p>607 rows × 12 columns</p>\n",
       "</div>"
      ],
      "text/plain": [
       "     Unnamed: 0  work_year  experience_level  employment_type  job_title  \\\n",
       "0             0       2020                 2                2       23.0   \n",
       "1             1       2020                 3                2       42.0   \n",
       "2             2       2020                 3                2        8.0   \n",
       "3             3       2020                 2                2       48.0   \n",
       "4             4       2020                 3                2       39.0   \n",
       "..          ...        ...               ...              ...        ...   \n",
       "602         602       2022                 3                2       18.0   \n",
       "603         603       2022                 3                2       18.0   \n",
       "604         604       2022                 3                2       13.0   \n",
       "605         605       2022                 3                2       13.0   \n",
       "606         606       2022                 2                2        1.0   \n",
       "\n",
       "     salary  salary_currency  salary_in_usd  employee_residence  remote_ratio  \\\n",
       "0     70000                7          79833                14.0             0   \n",
       "1    260000               16         260000                32.0             0   \n",
       "2     85000                8         109024                20.0            50   \n",
       "3     20000               16          20000                23.0             0   \n",
       "4    150000               16         150000                54.0            50   \n",
       "..      ...              ...            ...                 ...           ...   \n",
       "602  154000               16         154000                54.0           100   \n",
       "603  126000               16         126000                54.0           100   \n",
       "604  129000               16         129000                54.0             0   \n",
       "605  150000               16         150000                54.0           100   \n",
       "606  200000               16         200000                27.0           100   \n",
       "\n",
       "     company_location  company_size  \n",
       "0                  12             0  \n",
       "1                  29             2  \n",
       "2                  18             1  \n",
       "3                  20             2  \n",
       "4                  47             0  \n",
       "..                ...           ...  \n",
       "602                47             1  \n",
       "603                47             1  \n",
       "604                47             1  \n",
       "605                47             1  \n",
       "606                47             0  \n",
       "\n",
       "[607 rows x 12 columns]"
      ]
     },
     "execution_count": 62,
     "metadata": {},
     "output_type": "execute_result"
    }
   ],
   "source": [
    "data"
   ]
  },
  {
   "cell_type": "markdown",
   "id": "8b441f2f",
   "metadata": {},
   "source": [
    "# Réduction de la dimension ACP"
   ]
  },
  {
   "cell_type": "code",
   "execution_count": 65,
   "id": "ba7e818e",
   "metadata": {},
   "outputs": [
    {
     "data": {
      "text/plain": [
       "Unnamed: 0            0\n",
       "work_year             0\n",
       "experience_level      0\n",
       "employment_type       0\n",
       "job_title             8\n",
       "salary                0\n",
       "salary_currency       0\n",
       "salary_in_usd         0\n",
       "employee_residence    1\n",
       "remote_ratio          0\n",
       "company_location      0\n",
       "company_size          0\n",
       "dtype: int64"
      ]
     },
     "execution_count": 65,
     "metadata": {},
     "output_type": "execute_result"
    }
   ],
   "source": [
    "data.isnull().sum()"
   ]
  },
  {
   "cell_type": "code",
   "execution_count": 66,
   "id": "f354bf8e",
   "metadata": {},
   "outputs": [
    {
     "data": {
      "text/plain": [
       "(607, 12)"
      ]
     },
     "execution_count": 66,
     "metadata": {},
     "output_type": "execute_result"
    }
   ],
   "source": [
    "data.shape"
   ]
  },
  {
   "cell_type": "markdown",
   "id": "33e4c37e",
   "metadata": {},
   "source": [
    "### supprimer les valeur null"
   ]
  },
  {
   "cell_type": "code",
   "execution_count": 67,
   "id": "bd2530fc",
   "metadata": {},
   "outputs": [],
   "source": [
    "data=data.dropna()"
   ]
  },
  {
   "cell_type": "code",
   "execution_count": 68,
   "id": "7fbb23a0",
   "metadata": {},
   "outputs": [
    {
     "data": {
      "text/plain": [
       "Unnamed: 0            0\n",
       "work_year             0\n",
       "experience_level      0\n",
       "employment_type       0\n",
       "job_title             0\n",
       "salary                0\n",
       "salary_currency       0\n",
       "salary_in_usd         0\n",
       "employee_residence    0\n",
       "remote_ratio          0\n",
       "company_location      0\n",
       "company_size          0\n",
       "dtype: int64"
      ]
     },
     "execution_count": 68,
     "metadata": {},
     "output_type": "execute_result"
    }
   ],
   "source": [
    "data.isnull().sum()"
   ]
  },
  {
   "cell_type": "code",
   "execution_count": 69,
   "id": "56aa3fcb",
   "metadata": {},
   "outputs": [
    {
     "data": {
      "text/plain": [
       "(598, 12)"
      ]
     },
     "execution_count": 69,
     "metadata": {},
     "output_type": "execute_result"
    }
   ],
   "source": [
    "data.shape"
   ]
  },
  {
   "cell_type": "markdown",
   "id": "c1dd8c3c",
   "metadata": {},
   "source": [
    "## Step 1: Standardize the data"
   ]
  },
  {
   "cell_type": "code",
   "execution_count": 91,
   "id": "0e0c8155",
   "metadata": {},
   "outputs": [
    {
     "data": {
      "text/plain": [
       "array([[-1.72663552, -2.02213296, -0.12475023, ..., -1.74543256,\n",
       "        -1.48779808, -1.24042543],\n",
       "       [-1.7209282 , -2.02213296,  0.8440892 , ..., -1.74543256,\n",
       "        -0.39700367,  1.81843811],\n",
       "       [-1.71522088, -2.02213296,  0.8440892 , ..., -0.51602305,\n",
       "        -1.10281182,  0.28900634],\n",
       "       ...,\n",
       "       [ 1.72058461,  0.86043083,  0.8440892 , ..., -1.74543256,\n",
       "         0.75795511,  0.28900634],\n",
       "       [ 1.72629193,  0.86043083,  0.8440892 , ...,  0.71338645,\n",
       "         0.75795511,  0.28900634],\n",
       "       [ 1.73199925,  0.86043083, -0.12475023, ...,  0.71338645,\n",
       "         0.75795511, -1.24042543]])"
      ]
     },
     "execution_count": 91,
     "metadata": {},
     "output_type": "execute_result"
    }
   ],
   "source": [
    "scaler = StandardScaler()\n",
    "data_std = scaler.fit_transform(data)\n",
    "data_std"
   ]
  },
  {
   "cell_type": "markdown",
   "id": "8e51b399",
   "metadata": {},
   "source": [
    "## Step 2: Calculate the covariance matrix"
   ]
  },
  {
   "cell_type": "code",
   "execution_count": 92,
   "id": "5a011a1f",
   "metadata": {},
   "outputs": [
    {
     "data": {
      "text/plain": [
       "array([[ 1.00167504e+00,  8.88492097e-01,  2.88266084e-01,\n",
       "         1.36852886e-03, -1.35806358e-01, -9.74958367e-02,\n",
       "         1.90518406e-01,  1.54961958e-01,  1.77836020e-01,\n",
       "         1.03791428e-01,  1.58587433e-01,  9.10604054e-02],\n",
       "       [ 8.88492097e-01,  1.00167504e+00,  3.03993013e-01,\n",
       "         1.63279827e-02, -1.57142602e-01, -8.81744499e-02,\n",
       "         1.99437602e-01,  1.62497948e-01,  1.86934467e-01,\n",
       "         7.96757554e-02,  1.76261926e-01,  7.95340513e-02],\n",
       "       [ 2.88266084e-01,  3.03993013e-01,  1.00167504e+00,\n",
       "        -4.41536059e-02,  2.54917368e-02, -2.46817769e-02,\n",
       "         2.08270013e-01,  3.12155026e-01,  2.37022709e-01,\n",
       "         6.32073331e-02,  2.52885320e-01, -7.30954620e-02],\n",
       "       [ 1.36852886e-03,  1.63279827e-02, -4.41536059e-02,\n",
       "         1.00167504e+00, -1.03250842e-01,  5.79009299e-04,\n",
       "        -8.83304808e-02, -1.26504847e-01, -1.10703071e-01,\n",
       "        -4.59730492e-02, -8.39846590e-02,  3.48689127e-02],\n",
       "       [-1.35806358e-01, -1.57142602e-01,  2.54917368e-02,\n",
       "        -1.03250842e-01,  1.00167504e+00,  2.63599536e-02,\n",
       "        -1.47873444e-01,  1.51356045e-01, -1.17043291e-01,\n",
       "        -6.65390044e-02, -1.41050619e-01, -2.68079021e-02],\n",
       "       [-9.74958367e-02, -8.81744499e-02, -2.46817769e-02,\n",
       "         5.79009299e-04,  2.63599536e-02,  1.00167504e+00,\n",
       "        -1.21674193e-01, -8.59927494e-02, -1.05377136e-01,\n",
       "        -1.48931925e-02, -8.20040192e-02, -8.06688074e-02],\n",
       "       [ 1.90518406e-01,  1.99437602e-01,  2.08270013e-01,\n",
       "        -8.83304808e-02, -1.47873444e-01, -1.21674193e-01,\n",
       "         1.00167504e+00,  4.24351643e-01,  7.61394400e-01,\n",
       "         1.50282075e-01,  7.84229839e-01,  4.06201524e-02],\n",
       "       [ 1.54961958e-01,  1.62497948e-01,  3.12155026e-01,\n",
       "        -1.26504847e-01,  1.51356045e-01, -8.59927494e-02,\n",
       "         4.24351643e-01,  1.00167504e+00,  4.57990143e-01,\n",
       "         1.36877202e-01,  4.27899983e-01, -1.54179239e-01],\n",
       "       [ 1.77836020e-01,  1.86934467e-01,  2.37022709e-01,\n",
       "        -1.10703071e-01, -1.17043291e-01, -1.05377136e-01,\n",
       "         7.61394400e-01,  4.57990143e-01,  1.00167504e+00,\n",
       "         1.61593196e-01,  9.02764868e-01, -7.34778337e-02],\n",
       "       [ 1.03791428e-01,  7.96757554e-02,  6.32073331e-02,\n",
       "        -4.59730492e-02, -6.65390044e-02, -1.48931925e-02,\n",
       "         1.50282075e-01,  1.36877202e-01,  1.61593196e-01,\n",
       "         1.00167504e+00,  1.69659369e-01,  2.34006259e-02],\n",
       "       [ 1.58587433e-01,  1.76261926e-01,  2.52885320e-01,\n",
       "        -8.39846590e-02, -1.41050619e-01, -8.20040192e-02,\n",
       "         7.84229839e-01,  4.27899983e-01,  9.02764868e-01,\n",
       "         1.69659369e-01,  1.00167504e+00, -6.63827011e-02],\n",
       "       [ 9.10604054e-02,  7.95340513e-02, -7.30954620e-02,\n",
       "         3.48689127e-02, -2.68079021e-02, -8.06688074e-02,\n",
       "         4.06201524e-02, -1.54179239e-01, -7.34778337e-02,\n",
       "         2.34006259e-02, -6.63827011e-02,  1.00167504e+00]])"
      ]
     },
     "execution_count": 92,
     "metadata": {},
     "output_type": "execute_result"
    }
   ],
   "source": [
    "cov_matrix = np.cov(data_std.T)\n",
    "\n",
    "cov_matrix"
   ]
  },
  {
   "cell_type": "markdown",
   "id": "aa34f931",
   "metadata": {},
   "source": [
    "##  Step 3: Compute the eigenvectors and eigenvalues of the covariance matrix\n"
   ]
  },
  {
   "cell_type": "code",
   "execution_count": 93,
   "id": "91980ee8",
   "metadata": {},
   "outputs": [
    {
     "data": {
      "text/plain": [
       "array([[ 1.00167504e+00,  8.88492097e-01,  2.88266084e-01,\n",
       "         1.36852886e-03, -1.35806358e-01, -9.74958367e-02,\n",
       "         1.90518406e-01,  1.54961958e-01,  1.77836020e-01,\n",
       "         1.03791428e-01,  1.58587433e-01,  9.10604054e-02],\n",
       "       [ 8.88492097e-01,  1.00167504e+00,  3.03993013e-01,\n",
       "         1.63279827e-02, -1.57142602e-01, -8.81744499e-02,\n",
       "         1.99437602e-01,  1.62497948e-01,  1.86934467e-01,\n",
       "         7.96757554e-02,  1.76261926e-01,  7.95340513e-02],\n",
       "       [ 2.88266084e-01,  3.03993013e-01,  1.00167504e+00,\n",
       "        -4.41536059e-02,  2.54917368e-02, -2.46817769e-02,\n",
       "         2.08270013e-01,  3.12155026e-01,  2.37022709e-01,\n",
       "         6.32073331e-02,  2.52885320e-01, -7.30954620e-02],\n",
       "       [ 1.36852886e-03,  1.63279827e-02, -4.41536059e-02,\n",
       "         1.00167504e+00, -1.03250842e-01,  5.79009299e-04,\n",
       "        -8.83304808e-02, -1.26504847e-01, -1.10703071e-01,\n",
       "        -4.59730492e-02, -8.39846590e-02,  3.48689127e-02],\n",
       "       [-1.35806358e-01, -1.57142602e-01,  2.54917368e-02,\n",
       "        -1.03250842e-01,  1.00167504e+00,  2.63599536e-02,\n",
       "        -1.47873444e-01,  1.51356045e-01, -1.17043291e-01,\n",
       "        -6.65390044e-02, -1.41050619e-01, -2.68079021e-02],\n",
       "       [-9.74958367e-02, -8.81744499e-02, -2.46817769e-02,\n",
       "         5.79009299e-04,  2.63599536e-02,  1.00167504e+00,\n",
       "        -1.21674193e-01, -8.59927494e-02, -1.05377136e-01,\n",
       "        -1.48931925e-02, -8.20040192e-02, -8.06688074e-02],\n",
       "       [ 1.90518406e-01,  1.99437602e-01,  2.08270013e-01,\n",
       "        -8.83304808e-02, -1.47873444e-01, -1.21674193e-01,\n",
       "         1.00167504e+00,  4.24351643e-01,  7.61394400e-01,\n",
       "         1.50282075e-01,  7.84229839e-01,  4.06201524e-02],\n",
       "       [ 1.54961958e-01,  1.62497948e-01,  3.12155026e-01,\n",
       "        -1.26504847e-01,  1.51356045e-01, -8.59927494e-02,\n",
       "         4.24351643e-01,  1.00167504e+00,  4.57990143e-01,\n",
       "         1.36877202e-01,  4.27899983e-01, -1.54179239e-01],\n",
       "       [ 1.77836020e-01,  1.86934467e-01,  2.37022709e-01,\n",
       "        -1.10703071e-01, -1.17043291e-01, -1.05377136e-01,\n",
       "         7.61394400e-01,  4.57990143e-01,  1.00167504e+00,\n",
       "         1.61593196e-01,  9.02764868e-01, -7.34778337e-02],\n",
       "       [ 1.03791428e-01,  7.96757554e-02,  6.32073331e-02,\n",
       "        -4.59730492e-02, -6.65390044e-02, -1.48931925e-02,\n",
       "         1.50282075e-01,  1.36877202e-01,  1.61593196e-01,\n",
       "         1.00167504e+00,  1.69659369e-01,  2.34006259e-02],\n",
       "       [ 1.58587433e-01,  1.76261926e-01,  2.52885320e-01,\n",
       "        -8.39846590e-02, -1.41050619e-01, -8.20040192e-02,\n",
       "         7.84229839e-01,  4.27899983e-01,  9.02764868e-01,\n",
       "         1.69659369e-01,  1.00167504e+00, -6.63827011e-02],\n",
       "       [ 9.10604054e-02,  7.95340513e-02, -7.30954620e-02,\n",
       "         3.48689127e-02, -2.68079021e-02, -8.06688074e-02,\n",
       "         4.06201524e-02, -1.54179239e-01, -7.34778337e-02,\n",
       "         2.34006259e-02, -6.63827011e-02,  1.00167504e+00]])"
      ]
     },
     "execution_count": 93,
     "metadata": {},
     "output_type": "execute_result"
    }
   ],
   "source": [
    "eigenvalues, eigenvectors = np.linalg.eig(cov_matrix)\n",
    "cov_matrix"
   ]
  },
  {
   "cell_type": "markdown",
   "id": "23384081",
   "metadata": {},
   "source": [
    "##  Step 4: Choose the number of principal components"
   ]
  },
  {
   "cell_type": "code",
   "execution_count": 94,
   "id": "b9503de5",
   "metadata": {},
   "outputs": [
    {
     "data": {
      "text/plain": [
       "PCA(n_components=2)"
      ]
     },
     "execution_count": 94,
     "metadata": {},
     "output_type": "execute_result"
    }
   ],
   "source": [
    "pca = PCA(n_components=2)\n",
    "pca"
   ]
  },
  {
   "cell_type": "markdown",
   "id": "858e53ad",
   "metadata": {},
   "source": [
    "## Step 5: Transform the data"
   ]
  },
  {
   "cell_type": "code",
   "execution_count": 95,
   "id": "0b7f39a2",
   "metadata": {},
   "outputs": [
    {
     "data": {
      "text/plain": [
       "array([[ 3.39760046,  1.43861668],\n",
       "       [ 0.64593082,  2.29448348],\n",
       "       [ 2.31033342,  1.05090162],\n",
       "       ...,\n",
       "       [-1.85624263, -1.32968285],\n",
       "       [-2.30707969, -1.27723358],\n",
       "       [-1.72747144, -1.26343799]])"
      ]
     },
     "execution_count": 95,
     "metadata": {},
     "output_type": "execute_result"
    }
   ],
   "source": [
    "data_pca = pca.fit_transform(data_std)\n",
    "data_pca"
   ]
  },
  {
   "cell_type": "markdown",
   "id": "24ab31a8",
   "metadata": {},
   "source": [
    "## Step 6: Analyze the results"
   ]
  },
  {
   "cell_type": "code",
   "execution_count": 96,
   "id": "67cc62e4",
   "metadata": {},
   "outputs": [
    {
     "name": "stdout",
     "output_type": "stream",
     "text": [
      "Explained variance: [0.28310995 0.14948797]\n"
     ]
    }
   ],
   "source": [
    "print(\"Explained variance:\", pca.explained_variance_ratio_)"
   ]
  },
  {
   "cell_type": "markdown",
   "id": "f70bc314",
   "metadata": {},
   "source": [
    "# Visualiser les projections des données sur les premiers axes principaux "
   ]
  },
  {
   "cell_type": "code",
   "execution_count": 99,
   "id": "ec81d6a3",
   "metadata": {},
   "outputs": [
    {
     "data": {
      "image/png": "[encoded data removed]",
      "text/plain": [
       "<Figure size 640x480 with 1 Axes>"
      ]
     },
     "metadata": {},
     "output_type": "display_data"
    }
   ],
   "source": [
    "plt.hist(data_pca, bins=10)\n",
    "plt.show()"
   ]
  },
  {
   "cell_type": "markdown",
   "id": "207827a9",
   "metadata": {},
   "source": [
    "###  tracer un graphique en nuage de points avec les projections des données sur les deux premiers axes principaux"
   ]
  },
  {
   "cell_type": "code",
   "execution_count": 98,
   "id": "ea5f63c0",
   "metadata": {},
   "outputs": [
    {
     "data": {
      "image/png": "[encoded data removed]",
      "text/plain": [
       "<Figure size 640x480 with 1 Axes>"
      ]
     },
     "metadata": {},
     "output_type": "display_data"
    }
   ],
   "source": [
    "plt.scatter(data_pca[:, 0], data_pca[:, 1])\n",
    "plt.xlabel('Premier axe principal')\n",
    "plt.ylabel('Deuxième axe principal')\n",
    "plt.show()"
   ]
  },
  {
   "cell_type": "markdown",
   "id": "9360bdda",
   "metadata": {},
   "source": [
    "# K means"
   ]
  },
  {
   "cell_type": "code",
   "execution_count": 114,
   "id": "e869bb33",
   "metadata": {},
   "outputs": [
    {
     "data": {
      "text/plain": [
       "array([2, 0, 2, 2, 0, 0, 0, 2, 0, 0, 2, 2, 2, 0, 0, 0, 2, 2, 2, 0, 2, 2,\n",
       "       2, 0, 2, 0, 0, 2, 0, 2, 2, 0, 0, 0, 2, 2, 0, 0, 0, 0, 0, 2, 0, 0,\n",
       "       2, 2, 2, 0, 0, 2, 2, 0, 2, 2, 0, 2, 2, 0, 0, 0, 0, 0, 2, 0, 2, 2,\n",
       "       2, 0, 0, 2, 2, 2, 2, 0, 0, 2, 0, 2, 0, 0, 2, 0, 2, 2, 0, 0, 2, 0,\n",
       "       0, 2, 2, 2, 2, 0, 2, 2, 0, 0, 2, 0, 0, 2, 0, 0, 2, 2, 0, 0, 2, 2,\n",
       "       2, 2, 2, 2, 0, 0, 2, 0, 0, 2, 0, 0, 2, 2, 0, 0, 2, 2, 2, 2, 2, 0,\n",
       "       2, 0, 0, 2, 2, 0, 0, 0, 0, 0, 0, 0, 2, 2, 0, 0, 0, 0, 2, 0, 2, 0,\n",
       "       0, 0, 0, 0, 0, 2, 2, 2, 0, 0, 0, 0, 0, 0, 2, 0, 0, 0, 0, 2, 2, 0,\n",
       "       2, 2, 2, 2, 2, 0, 2, 0, 2, 2, 2, 0, 2, 2, 0, 2, 0, 2, 2, 2, 0, 2,\n",
       "       0, 2, 0, 0, 2, 0, 0, 0, 0, 0, 2, 2, 2, 2, 0, 2, 2, 2, 0, 0, 2, 2,\n",
       "       2, 0, 0, 2, 2, 0, 2, 2, 0, 0, 0, 0, 0, 2, 2, 0, 2, 2, 0, 0, 0, 2,\n",
       "       2, 2, 0, 2, 0, 0, 0, 0, 2, 0, 0, 2, 0, 2, 0, 2, 2, 2, 2, 0, 0, 0,\n",
       "       0, 2, 0, 2, 2, 2, 2, 0, 0, 2, 0, 2, 0, 2, 2, 0, 2, 2, 0, 0, 2, 1,\n",
       "       1, 1, 1, 1, 1, 1, 1, 1, 1, 1, 2, 2, 1, 1, 2, 1, 1, 1, 1, 1, 1, 2,\n",
       "       2, 2, 2, 1, 2, 1, 1, 1, 1, 1, 1, 1, 1, 1, 1, 1, 1, 1, 1, 1, 1, 1,\n",
       "       1, 1, 1, 1, 1, 1, 1, 1, 1, 1, 1, 1, 1, 1, 1, 1, 1, 1, 1, 2, 2, 1,\n",
       "       1, 2, 2, 2, 2, 2, 2, 1, 1, 1, 1, 1, 1, 1, 1, 2, 2, 2, 1, 1, 1, 1,\n",
       "       1, 1, 1, 1, 2, 1, 2, 1, 1, 2, 2, 1, 1, 1, 1, 1, 2, 2, 1, 1, 1, 1,\n",
       "       1, 1, 1, 2, 1, 1, 2, 1, 2, 2, 2, 2, 2, 2, 1, 2, 1, 1, 1, 1, 1, 1,\n",
       "       1, 1, 1, 2, 1, 2, 2, 2, 2, 2, 2, 2, 2, 2, 1, 1, 2, 2, 2, 2, 1, 2,\n",
       "       1, 1, 1, 2, 1, 2, 2, 1, 1, 2, 1, 2, 2, 2, 2, 1, 2, 2, 2, 1, 1, 1,\n",
       "       1, 1, 1, 1, 1, 1, 2, 2, 1, 1, 1, 1, 2, 2, 1, 1, 1, 1, 1, 2, 1, 2,\n",
       "       1, 2, 1, 2, 1, 1, 2, 1, 2, 2, 1, 2, 1, 2, 1, 2, 1, 2, 1, 1, 2, 2,\n",
       "       1, 2, 1, 1, 1, 2, 2, 1, 2, 1, 2, 1, 1, 1, 1, 1, 1, 2, 2, 1, 1, 1,\n",
       "       1, 1, 1, 1, 1, 1, 1, 1, 1, 1, 1, 1, 1, 1, 1, 1, 1, 1, 1, 1, 1, 1,\n",
       "       1, 1, 1, 1, 1, 1, 1, 1, 2, 1, 1, 1, 1, 1, 1, 1, 1, 1, 1, 1, 1, 1,\n",
       "       1, 1, 1, 1, 1, 2, 1, 1, 1, 1, 1, 1, 1, 1, 1, 1, 1, 1, 1, 2, 2, 1,\n",
       "       1, 1, 1, 1])"
      ]
     },
     "execution_count": 114,
     "metadata": {},
     "output_type": "execute_result"
    }
   ],
   "source": [
    "kmeans = KMeans(n_clusters=3, random_state=42)\n",
    "kmeans.fit(data_pca)\n",
    "y_predicted=kmeans.fit_predict(data_pca)\n",
    "y_predicted"
   ]
  },
  {
   "cell_type": "code",
   "execution_count": 115,
   "id": "2c8f321e",
   "metadata": {},
   "outputs": [
    {
     "data": {
      "image/png": "[encoded data removed]",
      "text/plain": [
       "<Figure size 640x480 with 1 Axes>"
      ]
     },
     "metadata": {},
     "output_type": "display_data"
    }
   ],
   "source": [
    "plt.scatter(data_pca[:, 0], data_pca[:, 1], c=kmeans.labels_)\n",
    "plt.xlabel('Axe principal 1')\n",
    "plt.ylabel('Axe principal 2')\n",
    "plt.show()"
   ]
  },
  {
   "cell_type": "markdown",
   "id": "6b4a6923",
   "metadata": {},
   "source": [
    "# DBSCAN"
   ]
  },
  {
   "cell_type": "code",
   "execution_count": 117,
   "id": "a4f44148",
   "metadata": {},
   "outputs": [
    {
     "data": {
      "image/png": "[encoded data removed]",
      "text/plain": [
       "<Figure size 640x480 with 1 Axes>"
      ]
     },
     "metadata": {},
     "output_type": "display_data"
    }
   ],
   "source": [
    "scores = []\n",
    "for k in range(2, 11):\n",
    "    kmeans = KMeans(n_clusters=k, random_state=42)\n",
    "    kmeans.fit(data_pca)\n",
    "    scores.append(calinski_harabasz_score(data_pca, kmeans.labels_))\n",
    "plt.plot(range(2, 11), scores)\n",
    "plt.xlabel('Nombre de clusters (K)')\n",
    "plt.ylabel('Score CHA')\n",
    "plt.show()"
   ]
  },
  {
   "cell_type": "code",
   "execution_count": 124,
   "id": "6518a0b9",
   "metadata": {},
   "outputs": [
    {
     "data": {
      "image/png": "[encoded data removed]",
      "text/plain": [
       "<Figure size 640x480 with 1 Axes>"
      ]
     },
     "metadata": {},
     "output_type": "display_data"
    }
   ],
   "source": [
    "dbscan = DBSCAN(eps=0.5, min_samples=5)\n",
    "dbscan.fit(data_pca)\n",
    "plt.scatter(data_pca[:, 0], data_pca[:, 1], c=dbscan.labels_)\n",
    "plt.xlabel('Axe principal 1')\n",
    "plt.ylabel('Axe principal 2')\n",
    "plt.show()"
   ]
  }
 ],
 "metadata": {
  "kernelspec": {
   "display_name": "Python 3 (ipykernel)",
   "language": "python",
   "name": "python3"
  },
  "language_info": {
   "codemirror_mode": {
    "name": "ipython",
    "version": 3
   },
   "file_extension": ".py",
   "mimetype": "text/x-python",
   "name": "python",
   "nbconvert_exporter": "python",
   "pygments_lexer": "ipython3",
   "version": "3.9.13"
  }
 },
 "nbformat": 4,
 "nbformat_minor": 5
}
